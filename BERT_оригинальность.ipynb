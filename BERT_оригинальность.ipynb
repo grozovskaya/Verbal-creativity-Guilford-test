{
  "cells": [
    {
      "cell_type": "markdown",
      "metadata": {
        "id": "F64Kr46Y9V84"
      },
      "source": [
        "# Импорт необходимых библиотек"
      ]
    },
    {
      "cell_type": "code",
      "execution_count": 1,
      "metadata": {
        "colab": {
          "base_uri": "https://localhost:8080/"
        },
        "id": "zZLddm4t9D9P",
        "outputId": "2aef10fb-d081-4bb3-aeac-dee426463053"
      },
      "outputs": [
        {
          "output_type": "stream",
          "name": "stdout",
          "text": [
            "Mounted at /content/drive/\n"
          ]
        }
      ],
      "source": [
        "from google.colab import drive\n",
        "drive.mount('/content/drive/')"
      ]
    },
    {
      "cell_type": "code",
      "execution_count": 2,
      "metadata": {
        "colab": {
          "base_uri": "https://localhost:8080/"
        },
        "id": "kAWZ7xBYv3rv",
        "outputId": "95efe7ad-1796-4039-caa6-1b04fdc987d8"
      },
      "outputs": [
        {
          "output_type": "stream",
          "name": "stdout",
          "text": [
            "Collecting pytorch-transformers\n",
            "  Downloading pytorch_transformers-1.2.0-py3-none-any.whl (176 kB)\n",
            "\u001b[?25l     \u001b[90m━━━━━━━━━━━━━━━━━━━━━━━━━━━━━━━━━━━━━━━━\u001b[0m \u001b[32m0.0/176.4 kB\u001b[0m \u001b[31m?\u001b[0m eta \u001b[36m-:--:--\u001b[0m\r\u001b[2K     \u001b[91m━━━━━━━━━━━━━━━━━━━━━━━━━━━━━━━━\u001b[0m\u001b[91m╸\u001b[0m\u001b[90m━━━━━━━\u001b[0m \u001b[32m143.4/176.4 kB\u001b[0m \u001b[31m4.2 MB/s\u001b[0m eta \u001b[36m0:00:01\u001b[0m\r\u001b[2K     \u001b[90m━━━━━━━━━━━━━━━━━━━━━━━━━━━━━━━━━━━━━━━━\u001b[0m \u001b[32m176.4/176.4 kB\u001b[0m \u001b[31m4.0 MB/s\u001b[0m eta \u001b[36m0:00:00\u001b[0m\n",
            "\u001b[?25hRequirement already satisfied: torch>=1.0.0 in /usr/local/lib/python3.10/dist-packages (from pytorch-transformers) (2.3.0+cu121)\n",
            "Requirement already satisfied: numpy in /usr/local/lib/python3.10/dist-packages (from pytorch-transformers) (1.25.2)\n",
            "Collecting boto3 (from pytorch-transformers)\n",
            "  Downloading boto3-1.34.129-py3-none-any.whl (139 kB)\n",
            "\u001b[2K     \u001b[90m━━━━━━━━━━━━━━━━━━━━━━━━━━━━━━━━━━━━━━━━\u001b[0m \u001b[32m139.2/139.2 kB\u001b[0m \u001b[31m21.0 MB/s\u001b[0m eta \u001b[36m0:00:00\u001b[0m\n",
            "\u001b[?25hRequirement already satisfied: requests in /usr/local/lib/python3.10/dist-packages (from pytorch-transformers) (2.31.0)\n",
            "Requirement already satisfied: tqdm in /usr/local/lib/python3.10/dist-packages (from pytorch-transformers) (4.66.4)\n",
            "Requirement already satisfied: regex in /usr/local/lib/python3.10/dist-packages (from pytorch-transformers) (2024.5.15)\n",
            "Requirement already satisfied: sentencepiece in /usr/local/lib/python3.10/dist-packages (from pytorch-transformers) (0.1.99)\n",
            "Collecting sacremoses (from pytorch-transformers)\n",
            "  Downloading sacremoses-0.1.1-py3-none-any.whl (897 kB)\n",
            "\u001b[2K     \u001b[90m━━━━━━━━━━━━━━━━━━━━━━━━━━━━━━━━━━━━━━━━\u001b[0m \u001b[32m897.5/897.5 kB\u001b[0m \u001b[31m27.7 MB/s\u001b[0m eta \u001b[36m0:00:00\u001b[0m\n",
            "\u001b[?25hRequirement already satisfied: filelock in /usr/local/lib/python3.10/dist-packages (from torch>=1.0.0->pytorch-transformers) (3.14.0)\n",
            "Requirement already satisfied: typing-extensions>=4.8.0 in /usr/local/lib/python3.10/dist-packages (from torch>=1.0.0->pytorch-transformers) (4.12.2)\n",
            "Requirement already satisfied: sympy in /usr/local/lib/python3.10/dist-packages (from torch>=1.0.0->pytorch-transformers) (1.12.1)\n",
            "Requirement already satisfied: networkx in /usr/local/lib/python3.10/dist-packages (from torch>=1.0.0->pytorch-transformers) (3.3)\n",
            "Requirement already satisfied: jinja2 in /usr/local/lib/python3.10/dist-packages (from torch>=1.0.0->pytorch-transformers) (3.1.4)\n",
            "Requirement already satisfied: fsspec in /usr/local/lib/python3.10/dist-packages (from torch>=1.0.0->pytorch-transformers) (2023.6.0)\n",
            "Collecting nvidia-cuda-nvrtc-cu12==12.1.105 (from torch>=1.0.0->pytorch-transformers)\n",
            "  Using cached nvidia_cuda_nvrtc_cu12-12.1.105-py3-none-manylinux1_x86_64.whl (23.7 MB)\n",
            "Collecting nvidia-cuda-runtime-cu12==12.1.105 (from torch>=1.0.0->pytorch-transformers)\n",
            "  Using cached nvidia_cuda_runtime_cu12-12.1.105-py3-none-manylinux1_x86_64.whl (823 kB)\n",
            "Collecting nvidia-cuda-cupti-cu12==12.1.105 (from torch>=1.0.0->pytorch-transformers)\n",
            "  Using cached nvidia_cuda_cupti_cu12-12.1.105-py3-none-manylinux1_x86_64.whl (14.1 MB)\n",
            "Collecting nvidia-cudnn-cu12==8.9.2.26 (from torch>=1.0.0->pytorch-transformers)\n",
            "  Using cached nvidia_cudnn_cu12-8.9.2.26-py3-none-manylinux1_x86_64.whl (731.7 MB)\n",
            "Collecting nvidia-cublas-cu12==12.1.3.1 (from torch>=1.0.0->pytorch-transformers)\n",
            "  Using cached nvidia_cublas_cu12-12.1.3.1-py3-none-manylinux1_x86_64.whl (410.6 MB)\n",
            "Collecting nvidia-cufft-cu12==11.0.2.54 (from torch>=1.0.0->pytorch-transformers)\n",
            "  Using cached nvidia_cufft_cu12-11.0.2.54-py3-none-manylinux1_x86_64.whl (121.6 MB)\n",
            "Collecting nvidia-curand-cu12==10.3.2.106 (from torch>=1.0.0->pytorch-transformers)\n",
            "  Using cached nvidia_curand_cu12-10.3.2.106-py3-none-manylinux1_x86_64.whl (56.5 MB)\n",
            "Collecting nvidia-cusolver-cu12==11.4.5.107 (from torch>=1.0.0->pytorch-transformers)\n",
            "  Using cached nvidia_cusolver_cu12-11.4.5.107-py3-none-manylinux1_x86_64.whl (124.2 MB)\n",
            "Collecting nvidia-cusparse-cu12==12.1.0.106 (from torch>=1.0.0->pytorch-transformers)\n",
            "  Using cached nvidia_cusparse_cu12-12.1.0.106-py3-none-manylinux1_x86_64.whl (196.0 MB)\n",
            "Collecting nvidia-nccl-cu12==2.20.5 (from torch>=1.0.0->pytorch-transformers)\n",
            "  Using cached nvidia_nccl_cu12-2.20.5-py3-none-manylinux2014_x86_64.whl (176.2 MB)\n",
            "Collecting nvidia-nvtx-cu12==12.1.105 (from torch>=1.0.0->pytorch-transformers)\n",
            "  Using cached nvidia_nvtx_cu12-12.1.105-py3-none-manylinux1_x86_64.whl (99 kB)\n",
            "Requirement already satisfied: triton==2.3.0 in /usr/local/lib/python3.10/dist-packages (from torch>=1.0.0->pytorch-transformers) (2.3.0)\n",
            "Collecting nvidia-nvjitlink-cu12 (from nvidia-cusolver-cu12==11.4.5.107->torch>=1.0.0->pytorch-transformers)\n",
            "  Downloading nvidia_nvjitlink_cu12-12.5.40-py3-none-manylinux2014_x86_64.whl (21.3 MB)\n",
            "\u001b[2K     \u001b[90m━━━━━━━━━━━━━━━━━━━━━━━━━━━━━━━━━━━━━━━━\u001b[0m \u001b[32m21.3/21.3 MB\u001b[0m \u001b[31m60.1 MB/s\u001b[0m eta \u001b[36m0:00:00\u001b[0m\n",
            "\u001b[?25hCollecting botocore<1.35.0,>=1.34.129 (from boto3->pytorch-transformers)\n",
            "  Downloading botocore-1.34.129-py3-none-any.whl (12.3 MB)\n",
            "\u001b[2K     \u001b[90m━━━━━━━━━━━━━━━━━━━━━━━━━━━━━━━━━━━━━━━━\u001b[0m \u001b[32m12.3/12.3 MB\u001b[0m \u001b[31m99.3 MB/s\u001b[0m eta \u001b[36m0:00:00\u001b[0m\n",
            "\u001b[?25hCollecting jmespath<2.0.0,>=0.7.1 (from boto3->pytorch-transformers)\n",
            "  Downloading jmespath-1.0.1-py3-none-any.whl (20 kB)\n",
            "Collecting s3transfer<0.11.0,>=0.10.0 (from boto3->pytorch-transformers)\n",
            "  Downloading s3transfer-0.10.1-py3-none-any.whl (82 kB)\n",
            "\u001b[2K     \u001b[90m━━━━━━━━━━━━━━━━━━━━━━━━━━━━━━━━━━━━━━━━\u001b[0m \u001b[32m82.2/82.2 kB\u001b[0m \u001b[31m15.5 MB/s\u001b[0m eta \u001b[36m0:00:00\u001b[0m\n",
            "\u001b[?25hRequirement already satisfied: charset-normalizer<4,>=2 in /usr/local/lib/python3.10/dist-packages (from requests->pytorch-transformers) (3.3.2)\n",
            "Requirement already satisfied: idna<4,>=2.5 in /usr/local/lib/python3.10/dist-packages (from requests->pytorch-transformers) (3.7)\n",
            "Requirement already satisfied: urllib3<3,>=1.21.1 in /usr/local/lib/python3.10/dist-packages (from requests->pytorch-transformers) (2.0.7)\n",
            "Requirement already satisfied: certifi>=2017.4.17 in /usr/local/lib/python3.10/dist-packages (from requests->pytorch-transformers) (2024.6.2)\n",
            "Requirement already satisfied: click in /usr/local/lib/python3.10/dist-packages (from sacremoses->pytorch-transformers) (8.1.7)\n",
            "Requirement already satisfied: joblib in /usr/local/lib/python3.10/dist-packages (from sacremoses->pytorch-transformers) (1.4.2)\n",
            "Requirement already satisfied: python-dateutil<3.0.0,>=2.1 in /usr/local/lib/python3.10/dist-packages (from botocore<1.35.0,>=1.34.129->boto3->pytorch-transformers) (2.8.2)\n",
            "Requirement already satisfied: MarkupSafe>=2.0 in /usr/local/lib/python3.10/dist-packages (from jinja2->torch>=1.0.0->pytorch-transformers) (2.1.5)\n",
            "Requirement already satisfied: mpmath<1.4.0,>=1.1.0 in /usr/local/lib/python3.10/dist-packages (from sympy->torch>=1.0.0->pytorch-transformers) (1.3.0)\n",
            "Requirement already satisfied: six>=1.5 in /usr/local/lib/python3.10/dist-packages (from python-dateutil<3.0.0,>=2.1->botocore<1.35.0,>=1.34.129->boto3->pytorch-transformers) (1.16.0)\n",
            "Installing collected packages: sacremoses, nvidia-nvtx-cu12, nvidia-nvjitlink-cu12, nvidia-nccl-cu12, nvidia-curand-cu12, nvidia-cufft-cu12, nvidia-cuda-runtime-cu12, nvidia-cuda-nvrtc-cu12, nvidia-cuda-cupti-cu12, nvidia-cublas-cu12, jmespath, nvidia-cusparse-cu12, nvidia-cudnn-cu12, botocore, s3transfer, nvidia-cusolver-cu12, boto3, pytorch-transformers\n",
            "Successfully installed boto3-1.34.129 botocore-1.34.129 jmespath-1.0.1 nvidia-cublas-cu12-12.1.3.1 nvidia-cuda-cupti-cu12-12.1.105 nvidia-cuda-nvrtc-cu12-12.1.105 nvidia-cuda-runtime-cu12-12.1.105 nvidia-cudnn-cu12-8.9.2.26 nvidia-cufft-cu12-11.0.2.54 nvidia-curand-cu12-10.3.2.106 nvidia-cusolver-cu12-11.4.5.107 nvidia-cusparse-cu12-12.1.0.106 nvidia-nccl-cu12-2.20.5 nvidia-nvjitlink-cu12-12.5.40 nvidia-nvtx-cu12-12.1.105 pytorch-transformers-1.2.0 s3transfer-0.10.1 sacremoses-0.1.1\n"
          ]
        }
      ],
      "source": [
        "!pip install pytorch-transformers"
      ]
    },
    {
      "cell_type": "code",
      "execution_count": 3,
      "metadata": {
        "colab": {
          "base_uri": "https://localhost:8080/"
        },
        "id": "ydp9VbesSUx7",
        "outputId": "166d5245-57b6-4f2c-d72c-e5c3a4bc9fce"
      },
      "outputs": [
        {
          "output_type": "stream",
          "name": "stdout",
          "text": [
            "Collecting pymorphy3\n",
            "  Downloading pymorphy3-2.0.1-py3-none-any.whl (53 kB)\n",
            "\u001b[?25l     \u001b[90m━━━━━━━━━━━━━━━━━━━━━━━━━━━━━━━━━━━━━━━━\u001b[0m \u001b[32m0.0/53.2 kB\u001b[0m \u001b[31m?\u001b[0m eta \u001b[36m-:--:--\u001b[0m\r\u001b[2K     \u001b[90m━━━━━━━━━━━━━━━━━━━━━━━━━━━━━━━━━━━━━━━━\u001b[0m \u001b[32m53.2/53.2 kB\u001b[0m \u001b[31m1.6 MB/s\u001b[0m eta \u001b[36m0:00:00\u001b[0m\n",
            "\u001b[?25hCollecting dawg-python>=0.7.1 (from pymorphy3)\n",
            "  Downloading DAWG_Python-0.7.2-py2.py3-none-any.whl (11 kB)\n",
            "Collecting pymorphy3-dicts-ru (from pymorphy3)\n",
            "  Downloading pymorphy3_dicts_ru-2.4.417150.4580142-py2.py3-none-any.whl (8.4 MB)\n",
            "\u001b[2K     \u001b[90m━━━━━━━━━━━━━━━━━━━━━━━━━━━━━━━━━━━━━━━━\u001b[0m \u001b[32m8.4/8.4 MB\u001b[0m \u001b[31m49.7 MB/s\u001b[0m eta \u001b[36m0:00:00\u001b[0m\n",
            "\u001b[?25hInstalling collected packages: pymorphy3-dicts-ru, dawg-python, pymorphy3\n",
            "Successfully installed dawg-python-0.7.2 pymorphy3-2.0.1 pymorphy3-dicts-ru-2.4.417150.4580142\n"
          ]
        }
      ],
      "source": [
        "! pip install pymorphy3"
      ]
    },
    {
      "cell_type": "code",
      "execution_count": 4,
      "metadata": {
        "id": "-MTuLFgWvBXK"
      },
      "outputs": [],
      "source": [
        "import pandas as pd\n",
        "import numpy as np\n",
        "\n",
        "from sklearn.feature_extraction.text import TfidfVectorizer, CountVectorizer\n",
        "from sklearn.pipeline import Pipeline\n",
        "\n",
        "from sklearn.linear_model import LogisticRegression, SGDClassifier\n",
        "from sklearn.naive_bayes import MultinomialNB, BernoulliNB\n",
        "\n",
        "from sklearn.metrics import accuracy_score, f1_score\n",
        "from sklearn.model_selection import train_test_split, cross_val_score, GridSearchCV\n",
        "\n",
        "import torch\n",
        "\n",
        "import string\n",
        "import re\n",
        "\n",
        "from tqdm import tqdm, trange, tqdm_notebook\n",
        "\n",
        "import warnings\n",
        "warnings.filterwarnings('ignore')\n",
        "\n",
        "import random\n",
        "import pymorphy3\n",
        "\n",
        "import matplotlib.pyplot as plt\n",
        "%matplotlib inline\n"
      ]
    },
    {
      "cell_type": "code",
      "execution_count": 5,
      "metadata": {
        "id": "a3YdduPrv6oa"
      },
      "outputs": [],
      "source": [
        "from torch.utils.data import TensorDataset, DataLoader, RandomSampler, SequentialSampler\n",
        "from keras.preprocessing.sequence import pad_sequences\n",
        "from pytorch_transformers import BertTokenizer, BertConfig\n",
        "from pytorch_transformers import AdamW, BertForSequenceClassification, WarmupLinearSchedule\n",
        "from tqdm import tqdm, trange, tqdm_notebook\n",
        "import io\n",
        "from IPython.display import clear_output"
      ]
    },
    {
      "cell_type": "code",
      "execution_count": 6,
      "metadata": {
        "id": "-fEZM7Lpf8e_"
      },
      "outputs": [],
      "source": [
        "import os"
      ]
    },
    {
      "cell_type": "code",
      "execution_count": 7,
      "metadata": {
        "id": "7iTOGnuhcpI6"
      },
      "outputs": [],
      "source": [
        "from sklearn.metrics import classification_report"
      ]
    },
    {
      "cell_type": "code",
      "execution_count": 8,
      "metadata": {
        "id": "U1Aw49zbSNi-"
      },
      "outputs": [],
      "source": [
        "from collections import Counter"
      ]
    },
    {
      "cell_type": "code",
      "execution_count": 9,
      "metadata": {
        "id": "i592FeC6wBie",
        "colab": {
          "base_uri": "https://localhost:8080/"
        },
        "outputId": "bcca37ea-eab1-4db0-ba74-072e3735b61a"
      },
      "outputs": [
        {
          "output_type": "stream",
          "name": "stdout",
          "text": [
            "Tesla T4\n"
          ]
        }
      ],
      "source": [
        "device = torch.device(\"cuda\" if torch.cuda.is_available() else \"cpu\")\n",
        "\n",
        "if device == 'cpu':\n",
        "    print('cpu')\n",
        "else:\n",
        "    n_gpu = torch.cuda.device_count()\n",
        "    print(torch.cuda.get_device_name(0))"
      ]
    },
    {
      "cell_type": "code",
      "execution_count": 10,
      "metadata": {
        "id": "ClugOnXX9L1c",
        "colab": {
          "base_uri": "https://localhost:8080/",
          "height": 275
        },
        "outputId": "dafe879b-a055-43b8-9c0c-225b26109c1c"
      },
      "outputs": [
        {
          "output_type": "execute_result",
          "data": {
            "text/plain": [
              "   Unnamed: 0          ID  attempt  n  \\\n",
              "0           0  PTxGzRMvLY        1  1   \n",
              "1           1  PTxGzRMvLY        1  2   \n",
              "2           2  PTxGzRMvLY        1  3   \n",
              "3           3  PTxGzRMvLY        1  4   \n",
              "4           4  PTxGzRMvLY        1  5   \n",
              "\n",
              "                                              answer  origNew  \\\n",
              "0                            сложить из спичек домик        3   \n",
              "1        использовать спички как опору чего - нибудь        5   \n",
              "2                   спичками мжно ковыряться в зубах        3   \n",
              "3  если сложить спички в виде колодца, можно испо...        5   \n",
              "4  если разукрасить спички, то можно сложить их н...        2   \n",
              "\n",
              "                                          prepr_text  simple_category  \n",
              "0                            сложить из спичек домик                5  \n",
              "1          использовать спички как опору чего нибудь                6  \n",
              "2                   спичками мжно ковыряться в зубах                6  \n",
              "3  если сложить спички в виде колодца можно испол...                6  \n",
              "4  если разукрасить спички то можно сложить их на...                5  "
            ],
            "text/html": [
              "\n",
              "  <div id=\"df-d65e2b3a-feb9-4f0d-9523-4bbb30aee830\" class=\"colab-df-container\">\n",
              "    <div>\n",
              "<style scoped>\n",
              "    .dataframe tbody tr th:only-of-type {\n",
              "        vertical-align: middle;\n",
              "    }\n",
              "\n",
              "    .dataframe tbody tr th {\n",
              "        vertical-align: top;\n",
              "    }\n",
              "\n",
              "    .dataframe thead th {\n",
              "        text-align: right;\n",
              "    }\n",
              "</style>\n",
              "<table border=\"1\" class=\"dataframe\">\n",
              "  <thead>\n",
              "    <tr style=\"text-align: right;\">\n",
              "      <th></th>\n",
              "      <th>Unnamed: 0</th>\n",
              "      <th>ID</th>\n",
              "      <th>attempt</th>\n",
              "      <th>n</th>\n",
              "      <th>answer</th>\n",
              "      <th>origNew</th>\n",
              "      <th>prepr_text</th>\n",
              "      <th>simple_category</th>\n",
              "    </tr>\n",
              "  </thead>\n",
              "  <tbody>\n",
              "    <tr>\n",
              "      <th>0</th>\n",
              "      <td>0</td>\n",
              "      <td>PTxGzRMvLY</td>\n",
              "      <td>1</td>\n",
              "      <td>1</td>\n",
              "      <td>сложить из спичек домик</td>\n",
              "      <td>3</td>\n",
              "      <td>сложить из спичек домик</td>\n",
              "      <td>5</td>\n",
              "    </tr>\n",
              "    <tr>\n",
              "      <th>1</th>\n",
              "      <td>1</td>\n",
              "      <td>PTxGzRMvLY</td>\n",
              "      <td>1</td>\n",
              "      <td>2</td>\n",
              "      <td>использовать спички как опору чего - нибудь</td>\n",
              "      <td>5</td>\n",
              "      <td>использовать спички как опору чего нибудь</td>\n",
              "      <td>6</td>\n",
              "    </tr>\n",
              "    <tr>\n",
              "      <th>2</th>\n",
              "      <td>2</td>\n",
              "      <td>PTxGzRMvLY</td>\n",
              "      <td>1</td>\n",
              "      <td>3</td>\n",
              "      <td>спичками мжно ковыряться в зубах</td>\n",
              "      <td>3</td>\n",
              "      <td>спичками мжно ковыряться в зубах</td>\n",
              "      <td>6</td>\n",
              "    </tr>\n",
              "    <tr>\n",
              "      <th>3</th>\n",
              "      <td>3</td>\n",
              "      <td>PTxGzRMvLY</td>\n",
              "      <td>1</td>\n",
              "      <td>4</td>\n",
              "      <td>если сложить спички в виде колодца, можно испо...</td>\n",
              "      <td>5</td>\n",
              "      <td>если сложить спички в виде колодца можно испол...</td>\n",
              "      <td>6</td>\n",
              "    </tr>\n",
              "    <tr>\n",
              "      <th>4</th>\n",
              "      <td>4</td>\n",
              "      <td>PTxGzRMvLY</td>\n",
              "      <td>1</td>\n",
              "      <td>5</td>\n",
              "      <td>если разукрасить спички, то можно сложить их н...</td>\n",
              "      <td>2</td>\n",
              "      <td>если разукрасить спички то можно сложить их на...</td>\n",
              "      <td>5</td>\n",
              "    </tr>\n",
              "  </tbody>\n",
              "</table>\n",
              "</div>\n",
              "    <div class=\"colab-df-buttons\">\n",
              "\n",
              "  <div class=\"colab-df-container\">\n",
              "    <button class=\"colab-df-convert\" onclick=\"convertToInteractive('df-d65e2b3a-feb9-4f0d-9523-4bbb30aee830')\"\n",
              "            title=\"Convert this dataframe to an interactive table.\"\n",
              "            style=\"display:none;\">\n",
              "\n",
              "  <svg xmlns=\"http://www.w3.org/2000/svg\" height=\"24px\" viewBox=\"0 -960 960 960\">\n",
              "    <path d=\"M120-120v-720h720v720H120Zm60-500h600v-160H180v160Zm220 220h160v-160H400v160Zm0 220h160v-160H400v160ZM180-400h160v-160H180v160Zm440 0h160v-160H620v160ZM180-180h160v-160H180v160Zm440 0h160v-160H620v160Z\"/>\n",
              "  </svg>\n",
              "    </button>\n",
              "\n",
              "  <style>\n",
              "    .colab-df-container {\n",
              "      display:flex;\n",
              "      gap: 12px;\n",
              "    }\n",
              "\n",
              "    .colab-df-convert {\n",
              "      background-color: #E8F0FE;\n",
              "      border: none;\n",
              "      border-radius: 50%;\n",
              "      cursor: pointer;\n",
              "      display: none;\n",
              "      fill: #1967D2;\n",
              "      height: 32px;\n",
              "      padding: 0 0 0 0;\n",
              "      width: 32px;\n",
              "    }\n",
              "\n",
              "    .colab-df-convert:hover {\n",
              "      background-color: #E2EBFA;\n",
              "      box-shadow: 0px 1px 2px rgba(60, 64, 67, 0.3), 0px 1px 3px 1px rgba(60, 64, 67, 0.15);\n",
              "      fill: #174EA6;\n",
              "    }\n",
              "\n",
              "    .colab-df-buttons div {\n",
              "      margin-bottom: 4px;\n",
              "    }\n",
              "\n",
              "    [theme=dark] .colab-df-convert {\n",
              "      background-color: #3B4455;\n",
              "      fill: #D2E3FC;\n",
              "    }\n",
              "\n",
              "    [theme=dark] .colab-df-convert:hover {\n",
              "      background-color: #434B5C;\n",
              "      box-shadow: 0px 1px 3px 1px rgba(0, 0, 0, 0.15);\n",
              "      filter: drop-shadow(0px 1px 2px rgba(0, 0, 0, 0.3));\n",
              "      fill: #FFFFFF;\n",
              "    }\n",
              "  </style>\n",
              "\n",
              "    <script>\n",
              "      const buttonEl =\n",
              "        document.querySelector('#df-d65e2b3a-feb9-4f0d-9523-4bbb30aee830 button.colab-df-convert');\n",
              "      buttonEl.style.display =\n",
              "        google.colab.kernel.accessAllowed ? 'block' : 'none';\n",
              "\n",
              "      async function convertToInteractive(key) {\n",
              "        const element = document.querySelector('#df-d65e2b3a-feb9-4f0d-9523-4bbb30aee830');\n",
              "        const dataTable =\n",
              "          await google.colab.kernel.invokeFunction('convertToInteractive',\n",
              "                                                    [key], {});\n",
              "        if (!dataTable) return;\n",
              "\n",
              "        const docLinkHtml = 'Like what you see? Visit the ' +\n",
              "          '<a target=\"_blank\" href=https://colab.research.google.com/notebooks/data_table.ipynb>data table notebook</a>'\n",
              "          + ' to learn more about interactive tables.';\n",
              "        element.innerHTML = '';\n",
              "        dataTable['output_type'] = 'display_data';\n",
              "        await google.colab.output.renderOutput(dataTable, element);\n",
              "        const docLink = document.createElement('div');\n",
              "        docLink.innerHTML = docLinkHtml;\n",
              "        element.appendChild(docLink);\n",
              "      }\n",
              "    </script>\n",
              "  </div>\n",
              "\n",
              "\n",
              "<div id=\"df-695f097f-3a4d-4c7d-9f70-1cc2f94347f4\">\n",
              "  <button class=\"colab-df-quickchart\" onclick=\"quickchart('df-695f097f-3a4d-4c7d-9f70-1cc2f94347f4')\"\n",
              "            title=\"Suggest charts\"\n",
              "            style=\"display:none;\">\n",
              "\n",
              "<svg xmlns=\"http://www.w3.org/2000/svg\" height=\"24px\"viewBox=\"0 0 24 24\"\n",
              "     width=\"24px\">\n",
              "    <g>\n",
              "        <path d=\"M19 3H5c-1.1 0-2 .9-2 2v14c0 1.1.9 2 2 2h14c1.1 0 2-.9 2-2V5c0-1.1-.9-2-2-2zM9 17H7v-7h2v7zm4 0h-2V7h2v10zm4 0h-2v-4h2v4z\"/>\n",
              "    </g>\n",
              "</svg>\n",
              "  </button>\n",
              "\n",
              "<style>\n",
              "  .colab-df-quickchart {\n",
              "      --bg-color: #E8F0FE;\n",
              "      --fill-color: #1967D2;\n",
              "      --hover-bg-color: #E2EBFA;\n",
              "      --hover-fill-color: #174EA6;\n",
              "      --disabled-fill-color: #AAA;\n",
              "      --disabled-bg-color: #DDD;\n",
              "  }\n",
              "\n",
              "  [theme=dark] .colab-df-quickchart {\n",
              "      --bg-color: #3B4455;\n",
              "      --fill-color: #D2E3FC;\n",
              "      --hover-bg-color: #434B5C;\n",
              "      --hover-fill-color: #FFFFFF;\n",
              "      --disabled-bg-color: #3B4455;\n",
              "      --disabled-fill-color: #666;\n",
              "  }\n",
              "\n",
              "  .colab-df-quickchart {\n",
              "    background-color: var(--bg-color);\n",
              "    border: none;\n",
              "    border-radius: 50%;\n",
              "    cursor: pointer;\n",
              "    display: none;\n",
              "    fill: var(--fill-color);\n",
              "    height: 32px;\n",
              "    padding: 0;\n",
              "    width: 32px;\n",
              "  }\n",
              "\n",
              "  .colab-df-quickchart:hover {\n",
              "    background-color: var(--hover-bg-color);\n",
              "    box-shadow: 0 1px 2px rgba(60, 64, 67, 0.3), 0 1px 3px 1px rgba(60, 64, 67, 0.15);\n",
              "    fill: var(--button-hover-fill-color);\n",
              "  }\n",
              "\n",
              "  .colab-df-quickchart-complete:disabled,\n",
              "  .colab-df-quickchart-complete:disabled:hover {\n",
              "    background-color: var(--disabled-bg-color);\n",
              "    fill: var(--disabled-fill-color);\n",
              "    box-shadow: none;\n",
              "  }\n",
              "\n",
              "  .colab-df-spinner {\n",
              "    border: 2px solid var(--fill-color);\n",
              "    border-color: transparent;\n",
              "    border-bottom-color: var(--fill-color);\n",
              "    animation:\n",
              "      spin 1s steps(1) infinite;\n",
              "  }\n",
              "\n",
              "  @keyframes spin {\n",
              "    0% {\n",
              "      border-color: transparent;\n",
              "      border-bottom-color: var(--fill-color);\n",
              "      border-left-color: var(--fill-color);\n",
              "    }\n",
              "    20% {\n",
              "      border-color: transparent;\n",
              "      border-left-color: var(--fill-color);\n",
              "      border-top-color: var(--fill-color);\n",
              "    }\n",
              "    30% {\n",
              "      border-color: transparent;\n",
              "      border-left-color: var(--fill-color);\n",
              "      border-top-color: var(--fill-color);\n",
              "      border-right-color: var(--fill-color);\n",
              "    }\n",
              "    40% {\n",
              "      border-color: transparent;\n",
              "      border-right-color: var(--fill-color);\n",
              "      border-top-color: var(--fill-color);\n",
              "    }\n",
              "    60% {\n",
              "      border-color: transparent;\n",
              "      border-right-color: var(--fill-color);\n",
              "    }\n",
              "    80% {\n",
              "      border-color: transparent;\n",
              "      border-right-color: var(--fill-color);\n",
              "      border-bottom-color: var(--fill-color);\n",
              "    }\n",
              "    90% {\n",
              "      border-color: transparent;\n",
              "      border-bottom-color: var(--fill-color);\n",
              "    }\n",
              "  }\n",
              "</style>\n",
              "\n",
              "  <script>\n",
              "    async function quickchart(key) {\n",
              "      const quickchartButtonEl =\n",
              "        document.querySelector('#' + key + ' button');\n",
              "      quickchartButtonEl.disabled = true;  // To prevent multiple clicks.\n",
              "      quickchartButtonEl.classList.add('colab-df-spinner');\n",
              "      try {\n",
              "        const charts = await google.colab.kernel.invokeFunction(\n",
              "            'suggestCharts', [key], {});\n",
              "      } catch (error) {\n",
              "        console.error('Error during call to suggestCharts:', error);\n",
              "      }\n",
              "      quickchartButtonEl.classList.remove('colab-df-spinner');\n",
              "      quickchartButtonEl.classList.add('colab-df-quickchart-complete');\n",
              "    }\n",
              "    (() => {\n",
              "      let quickchartButtonEl =\n",
              "        document.querySelector('#df-695f097f-3a4d-4c7d-9f70-1cc2f94347f4 button');\n",
              "      quickchartButtonEl.style.display =\n",
              "        google.colab.kernel.accessAllowed ? 'block' : 'none';\n",
              "    })();\n",
              "  </script>\n",
              "</div>\n",
              "    </div>\n",
              "  </div>\n"
            ],
            "application/vnd.google.colaboratory.intrinsic+json": {
              "type": "dataframe",
              "variable_name": "dataset",
              "summary": "{\n  \"name\": \"dataset\",\n  \"rows\": 7356,\n  \"fields\": [\n    {\n      \"column\": \"Unnamed: 0\",\n      \"properties\": {\n        \"dtype\": \"number\",\n        \"std\": 2696,\n        \"min\": 0,\n        \"max\": 9260,\n        \"num_unique_values\": 7356,\n        \"samples\": [\n          2193,\n          5297,\n          8541\n        ],\n        \"semantic_type\": \"\",\n        \"description\": \"\"\n      }\n    },\n    {\n      \"column\": \"ID\",\n      \"properties\": {\n        \"dtype\": \"category\",\n        \"num_unique_values\": 1431,\n        \"samples\": [\n          \"pUOE69PU3E\",\n          \"s.82115080-7325-4857-8e71-8dc61fd2a4a4.txt\",\n          \"3EWX25\"\n        ],\n        \"semantic_type\": \"\",\n        \"description\": \"\"\n      }\n    },\n    {\n      \"column\": \"attempt\",\n      \"properties\": {\n        \"dtype\": \"number\",\n        \"std\": 0,\n        \"min\": 0,\n        \"max\": 2,\n        \"num_unique_values\": 3,\n        \"samples\": [\n          1,\n          2,\n          0\n        ],\n        \"semantic_type\": \"\",\n        \"description\": \"\"\n      }\n    },\n    {\n      \"column\": \"n\",\n      \"properties\": {\n        \"dtype\": \"number\",\n        \"std\": 2,\n        \"min\": 1,\n        \"max\": 22,\n        \"num_unique_values\": 22,\n        \"samples\": [\n          1,\n          13,\n          9\n        ],\n        \"semantic_type\": \"\",\n        \"description\": \"\"\n      }\n    },\n    {\n      \"column\": \"answer\",\n      \"properties\": {\n        \"dtype\": \"string\",\n        \"num_unique_values\": 7356,\n        \"samples\": [\n          \"\\u0421\\u0440\\u0430\\u0436\\u0430\\u0442\\u044c\\u0441\\u044f \\u0435\\u0439 \\u0441 \\u0434\\u0440\\u0443\\u0437\\u044c\\u044f\\u043c\\u0438 \\u043a\\u0430\\u043a \\u043d\\u0430 \\u0448\\u043f\\u0430\\u0433\\u0430\\u0445\",\n          \"\\u0434\\u0435\\u043b\\u0430\\u0442\\u044c \\u0434\\u0440\\u043e\\u0442\\u0438\\u043a\\u0438\",\n          \"\\u043a\\u0430\\u043a \\u0441\\u0440\\u0435\\u0434\\u0441\\u0442\\u0432\\u043e \\u0434\\u043b\\u044f \\u0440\\u0430\\u0437\\u0436\\u0438\\u0433\\u0430\\u043d\\u0438\\u044f \\u043e\\u0433\\u043d\\u044f\"\n        ],\n        \"semantic_type\": \"\",\n        \"description\": \"\"\n      }\n    },\n    {\n      \"column\": \"origNew\",\n      \"properties\": {\n        \"dtype\": \"number\",\n        \"std\": 0,\n        \"min\": 1,\n        \"max\": 6,\n        \"num_unique_values\": 6,\n        \"samples\": [\n          3,\n          5,\n          6\n        ],\n        \"semantic_type\": \"\",\n        \"description\": \"\"\n      }\n    },\n    {\n      \"column\": \"prepr_text\",\n      \"properties\": {\n        \"dtype\": \"string\",\n        \"num_unique_values\": 7356,\n        \"samples\": [\n          \"\\u0441\\u0440\\u0430\\u0436\\u0430\\u0442\\u044c\\u0441\\u044f \\u0435\\u0439 \\u0441 \\u0434\\u0440\\u0443\\u0437\\u044c\\u044f\\u043c\\u0438 \\u043a\\u0430\\u043a \\u043d\\u0430 \\u0448\\u043f\\u0430\\u0433\\u0430\\u0445\",\n          \"\\u0434\\u0435\\u043b\\u0430\\u0442\\u044c \\u0434\\u0440\\u043e\\u0442\\u0438\\u043a\\u0438\",\n          \"\\u043a\\u0430\\u043a \\u0441\\u0440\\u0435\\u0434\\u0441\\u0442\\u0432\\u043e \\u0434\\u043b\\u044f \\u0440\\u0430\\u0437\\u0436\\u0438\\u0433\\u0430\\u043d\\u0438\\u044f \\u043e\\u0433\\u043d\\u044f\"\n        ],\n        \"semantic_type\": \"\",\n        \"description\": \"\"\n      }\n    },\n    {\n      \"column\": \"simple_category\",\n      \"properties\": {\n        \"dtype\": \"number\",\n        \"std\": 1,\n        \"min\": 1,\n        \"max\": 9,\n        \"num_unique_values\": 9,\n        \"samples\": [\n          3,\n          6,\n          4\n        ],\n        \"semantic_type\": \"\",\n        \"description\": \"\"\n      }\n    }\n  ]\n}"
            }
          },
          "metadata": {},
          "execution_count": 10
        }
      ],
      "source": [
        "dataset = pd.read_excel('/content/drive/MyDrive/Гилфорд Маг Диплом Розовская/New results/cleaned data Guilford.xlsx')\n",
        "\n",
        "dataset.head(5)"
      ]
    },
    {
      "cell_type": "markdown",
      "source": [
        "Сразу смотрим, сколько примеров на каждый балл оригинальности:"
      ],
      "metadata": {
        "id": "FL0JmME8yXLt"
      }
    },
    {
      "cell_type": "code",
      "source": [
        "dataset.origNew.value_counts()"
      ],
      "metadata": {
        "id": "-X231D4cxwH-",
        "colab": {
          "base_uri": "https://localhost:8080/"
        },
        "outputId": "c8a2ad61-c7f4-4451-dc4c-2889f97a65f3"
      },
      "execution_count": 11,
      "outputs": [
        {
          "output_type": "execute_result",
          "data": {
            "text/plain": [
              "origNew\n",
              "5    3330\n",
              "4    2187\n",
              "3    1480\n",
              "2     285\n",
              "6      51\n",
              "1      23\n",
              "Name: count, dtype: int64"
            ]
          },
          "metadata": {},
          "execution_count": 11
        }
      ]
    },
    {
      "cell_type": "markdown",
      "metadata": {
        "id": "pvAhLOFLvBXP"
      },
      "source": [
        "# Зафиксируем seed для воспроизводимости"
      ]
    },
    {
      "cell_type": "code",
      "execution_count": 12,
      "metadata": {
        "id": "iBTmYrAavBXP"
      },
      "outputs": [],
      "source": [
        "#фиксируем seed\n",
        "def init_random_seed(value=0):\n",
        "    random.seed(value)\n",
        "    np.random.seed(value)\n",
        "    torch.manual_seed(value)\n",
        "    torch.cuda.manual_seed(value)\n",
        "    torch.backends.cudnn.deterministic = True\n",
        "\n",
        "RANDOM_SEED = 1500\n",
        "\n",
        "init_random_seed(value=RANDOM_SEED)"
      ]
    },
    {
      "cell_type": "markdown",
      "metadata": {
        "id": "N-O2BLWZvBaa"
      },
      "source": [
        "# Fine-tuning BERT"
      ]
    },
    {
      "cell_type": "code",
      "execution_count": 13,
      "metadata": {
        "id": "uIlMDi15Okfk"
      },
      "outputs": [],
      "source": [
        "sentences_bert = [\"[CLS] \" + sentence + \" [SEP]\" for sentence in dataset['prepr_text'].values]"
      ]
    },
    {
      "cell_type": "code",
      "execution_count": 14,
      "metadata": {
        "id": "4IaOnBEPSI2e"
      },
      "outputs": [],
      "source": [
        "# переопределим баллы оригинальности от 0\n",
        "#Так я пыталась решить ошибку, которая появлялась на этапе обучения модели\n",
        "#RuntimeError: CUDA error: device-side assert triggered\n",
        "\n",
        "# UPD: + объединить маленькие классы\n",
        "\n",
        "def get_classes():\n",
        "  classes = []\n",
        "  for value in dataset.origNew:\n",
        "    if value==1 or value ==2 or value == 3: # объединяем 1, 2 и 3 в один класс\n",
        "      cls = int(0)\n",
        "    elif value==4: # просто переопределяем\n",
        "      cls = int(1)\n",
        "    else: # объединяем 5 и 6 в один класс\n",
        "      cls = int(2)\n",
        "    classes.append(cls)\n",
        "\n",
        "  dataset.origNew = classes\n",
        "  dataset.origNew.unique()"
      ]
    },
    {
      "cell_type": "code",
      "source": [
        "# !!! 6 КЛАССОВ\n",
        "classes = [int(x)-1 for x in dataset.origNew.values]\n",
        "\n",
        "dataset.origNew = classes"
      ],
      "metadata": {
        "id": "U8rqmx6rKp_f"
      },
      "execution_count": 15,
      "outputs": []
    },
    {
      "cell_type": "code",
      "source": [
        "# !!! 3 КЛАССА\n",
        "#get_classes()"
      ],
      "metadata": {
        "id": "JjIme59hN3KR"
      },
      "execution_count": 16,
      "outputs": []
    },
    {
      "cell_type": "code",
      "source": [
        "dataset.origNew.value_counts()"
      ],
      "metadata": {
        "id": "BHSQeP93xj8A",
        "colab": {
          "base_uri": "https://localhost:8080/"
        },
        "outputId": "b49d1763-3826-49fb-fed8-744036a29a8a"
      },
      "execution_count": 17,
      "outputs": [
        {
          "output_type": "execute_result",
          "data": {
            "text/plain": [
              "origNew\n",
              "4    3330\n",
              "3    2187\n",
              "2    1480\n",
              "1     285\n",
              "5      51\n",
              "0      23\n",
              "Name: count, dtype: int64"
            ]
          },
          "metadata": {},
          "execution_count": 17
        }
      ]
    },
    {
      "cell_type": "code",
      "execution_count": 18,
      "metadata": {
        "id": "hDGs8kpWSrvy",
        "colab": {
          "base_uri": "https://localhost:8080/"
        },
        "outputId": "3f486ae0-1c4a-49c9-9368-f180d2530500"
      },
      "outputs": [
        {
          "output_type": "execute_result",
          "data": {
            "text/plain": [
              "numpy.int64"
            ]
          },
          "metadata": {},
          "execution_count": 18
        }
      ],
      "source": [
        "type(dataset.origNew[0])"
      ]
    },
    {
      "cell_type": "code",
      "execution_count": 19,
      "metadata": {
        "id": "QptymWMs_M_p"
      },
      "outputs": [],
      "source": [
        "# целочисленные баллы оригинальности превращаются в лейблы классов\n",
        "labels = dataset.origNew"
      ]
    },
    {
      "cell_type": "code",
      "execution_count": 20,
      "metadata": {
        "id": "uYhMfU-gxkmg"
      },
      "outputs": [],
      "source": [
        "train_sentences, test_sentences, train_y, test_y = train_test_split(sentences_bert,\n",
        "                                                                    labels, test_size=0.2, stratify=labels, random_state=RANDOM_SEED)"
      ]
    },
    {
      "cell_type": "code",
      "execution_count": 21,
      "metadata": {
        "id": "tcZrKc5rvBaa",
        "colab": {
          "base_uri": "https://localhost:8080/"
        },
        "outputId": "ddd67e0f-ebd7-4f45-b77d-3ba8b4c35eb5"
      },
      "outputs": [
        {
          "output_type": "stream",
          "name": "stderr",
          "text": [
            "100%|██████████| 231508/231508 [00:00<00:00, 319142.48B/s]\n"
          ]
        },
        {
          "output_type": "stream",
          "name": "stdout",
          "text": [
            "['[CLS]', 'д', '##л', '##я', 'т', '##о', '##г', '##о', 'ч', '##т', '##о', '##б', '##ы', 'п', '##о', '##р', '##т', '##и', '##т', '##ь', 'д', '##в', '##е', '##р', '##н', '##о', '##и', 'з', '##а', '##м', '##о', '##к', '[SEP]']\n"
          ]
        }
      ],
      "source": [
        "from pytorch_transformers import BertTokenizer, BertConfig\n",
        "\n",
        "# здесь меняем max_len\n",
        "# 85 получилось оптимально\n",
        "\n",
        "tokenizer = BertTokenizer.from_pretrained('bert-base-uncased', do_lower_case=True)\n",
        "# base -model | uncased - все слова в нижнем регистре\n",
        "tokenized_texts_train = [tokenizer.tokenize(sent[:85]) for sent in train_sentences]\n",
        "tokenized_texts_test = [tokenizer.tokenize(sent[:85]) for sent in test_sentences]\n",
        "print(tokenized_texts_train[0])"
      ]
    },
    {
      "cell_type": "code",
      "execution_count": 22,
      "metadata": {
        "id": "8CppqtL5tjIt",
        "colab": {
          "base_uri": "https://localhost:8080/"
        },
        "outputId": "e5745751-5c9b-4f00-e6e3-374eb8d4f3a1"
      },
      "outputs": [
        {
          "output_type": "execute_result",
          "data": {
            "text/plain": [
              "676"
            ]
          },
          "metadata": {},
          "execution_count": 22
        }
      ],
      "source": [
        "sum([1 for sent in train_sentences if len(sent) > 70])"
      ]
    },
    {
      "cell_type": "code",
      "execution_count": 23,
      "metadata": {
        "id": "YYXkViluxddV",
        "colab": {
          "base_uri": "https://localhost:8080/"
        },
        "outputId": "ab7b7694-e87f-4b34-8427-e611b2e2c4b2"
      },
      "outputs": [
        {
          "output_type": "execute_result",
          "data": {
            "text/plain": [
              "5884"
            ]
          },
          "metadata": {},
          "execution_count": 23
        }
      ],
      "source": [
        "len(tokenized_texts_train)"
      ]
    },
    {
      "cell_type": "markdown",
      "metadata": {
        "id": "BljSkHADx9Ea"
      },
      "source": [
        "BERTу нужно предоставить специальный формат входных данных.\n",
        "\n",
        "\n",
        "- **input ids**: последовательность чисел, отождествляющих каждый токен с его номером в словаре.\n",
        "- **labels**: вектор из нулей и единиц. В нашем случае нули обозначают негативную эмоциональную окраску, единицы - положительную.\n",
        "- **segment mask**: (необязательно) последовательность нулей и единиц, которая показывает, состоит ли входной текст из одного или двух предложений. Для случая одного предложения получится вектор из одних нулей. Для двух: <length_of_sent_1> нулей и <length_of_sent_2> единиц.\n",
        "- **attention mask**: (необязательно) последовательность нулей и единиц, где единицы обозначают токены предложения, нули - паддинг."
      ]
    },
    {
      "cell_type": "code",
      "execution_count": 24,
      "metadata": {
        "id": "nh16hfyZx9a1"
      },
      "outputs": [],
      "source": [
        "input_ids = [tokenizer.convert_tokens_to_ids(x) for x in tokenized_texts_train]\n",
        "input_ids = pad_sequences(\n",
        "    input_ids,\n",
        "    maxlen=128,\n",
        "    dtype=\"long\",\n",
        "    truncating=\"post\",\n",
        "    padding=\"post\"\n",
        ")\n",
        "attention_masks = [[float(i>0) for i in seq] for seq in input_ids]"
      ]
    },
    {
      "cell_type": "code",
      "execution_count": 25,
      "metadata": {
        "id": "ISwDssMgyJos",
        "colab": {
          "base_uri": "https://localhost:8080/"
        },
        "outputId": "9213bf5d-6295-42f2-8035-ed56241a1f70"
      },
      "outputs": [
        {
          "output_type": "execute_result",
          "data": {
            "text/plain": [
              "31.29860639021074"
            ]
          },
          "metadata": {},
          "execution_count": 25
        }
      ],
      "source": [
        "sum([len(text) for text in tokenized_texts_train])/len(tokenized_texts_train)"
      ]
    },
    {
      "cell_type": "code",
      "execution_count": 26,
      "metadata": {
        "id": "7IdIkG2aZlwI"
      },
      "outputs": [],
      "source": [
        "train_inputs = input_ids\n",
        "train_labels = train_y\n",
        "train_masks = attention_masks\n",
        "\n",
        "val_input_ids = [tokenizer.convert_tokens_to_ids(x) for x in tokenized_texts_test]\n",
        "val_input_ids = pad_sequences(\n",
        "    val_input_ids,\n",
        "    maxlen=128,\n",
        "    dtype=\"long\",\n",
        "    truncating=\"post\",\n",
        "    padding=\"post\"\n",
        ")\n",
        "val_attention_masks = [[float(i>0) for i in seq] for seq in val_input_ids]\n",
        "\n",
        "validation_inputs = val_input_ids\n",
        "validation_labels = test_y\n",
        "validation_masks = val_attention_masks"
      ]
    },
    {
      "cell_type": "code",
      "execution_count": 27,
      "metadata": {
        "id": "V2BtBSieanBr",
        "colab": {
          "base_uri": "https://localhost:8080/"
        },
        "outputId": "62539a78-3e73-4237-de10-785b8d8c06f8"
      },
      "outputs": [
        {
          "output_type": "execute_result",
          "data": {
            "text/plain": [
              "(5884, 128)"
            ]
          },
          "metadata": {},
          "execution_count": 27
        }
      ],
      "source": [
        "train_inputs.shape"
      ]
    },
    {
      "cell_type": "code",
      "execution_count": 28,
      "metadata": {
        "id": "SFgufgRxaprg",
        "colab": {
          "base_uri": "https://localhost:8080/"
        },
        "outputId": "abac4f7f-b8af-4393-a1ad-30234b4f2b4e"
      },
      "outputs": [
        {
          "output_type": "execute_result",
          "data": {
            "text/plain": [
              "(5884,)"
            ]
          },
          "metadata": {},
          "execution_count": 28
        }
      ],
      "source": [
        "train_labels.shape"
      ]
    },
    {
      "cell_type": "code",
      "execution_count": 29,
      "metadata": {
        "id": "0C_1r8VDT4Mu"
      },
      "outputs": [],
      "source": [
        "train_inputs = torch.tensor(train_inputs)\n",
        "train_labels = np.array(train_labels)\n",
        "train_labels = torch.tensor(train_labels)\n",
        "train_masks = torch.tensor(train_masks)"
      ]
    },
    {
      "cell_type": "code",
      "execution_count": 30,
      "metadata": {
        "id": "ojoV2jJrm_l2"
      },
      "outputs": [],
      "source": [
        "validation_inputs = torch.tensor(validation_inputs)\n",
        "validation_labels = np.array(validation_labels)\n",
        "validation_labels = torch.tensor(validation_labels)\n",
        "validation_masks = torch.tensor(validation_masks)"
      ]
    },
    {
      "cell_type": "code",
      "execution_count": 31,
      "metadata": {
        "id": "C0ipMswym_l6",
        "colab": {
          "base_uri": "https://localhost:8080/"
        },
        "outputId": "c4e8444c-98fc-4df6-8149-a317588a18b7"
      },
      "outputs": [
        {
          "output_type": "execute_result",
          "data": {
            "text/plain": [
              "(torch.Size([5884]), torch.Size([1472]))"
            ]
          },
          "metadata": {},
          "execution_count": 31
        }
      ],
      "source": [
        "train_labels.shape, validation_labels.shape"
      ]
    },
    {
      "cell_type": "markdown",
      "metadata": {
        "id": "gb2JjE47BslP"
      },
      "source": [
        "Можно попробовать разные batch_size: 8, 16, 32"
      ]
    },
    {
      "cell_type": "code",
      "execution_count": 32,
      "metadata": {
        "id": "GEgLpFVlo1Z-"
      },
      "outputs": [],
      "source": [
        "train_data = TensorDataset(train_inputs, train_masks, train_labels)\n",
        "train_dataloader = DataLoader(\n",
        "    train_data,\n",
        "    sampler=RandomSampler(train_data),\n",
        "    batch_size= 32\n",
        ")"
      ]
    },
    {
      "cell_type": "code",
      "execution_count": 33,
      "metadata": {
        "id": "nQWHyuDAm_l_"
      },
      "outputs": [],
      "source": [
        "validation_data = TensorDataset(validation_inputs, validation_masks, validation_labels)\n",
        "validation_dataloader = DataLoader(\n",
        "    validation_data,\n",
        "    sampler=SequentialSampler(validation_data),\n",
        "    batch_size= 32\n",
        ")"
      ]
    },
    {
      "cell_type": "markdown",
      "metadata": {
        "id": "pNl8khAhPYju"
      },
      "source": [
        "# Обучение модели Bert For Sequence Classification:"
      ]
    },
    {
      "cell_type": "code",
      "execution_count": 34,
      "metadata": {
        "id": "djqlmwWBm_mD"
      },
      "outputs": [],
      "source": [
        "from pytorch_transformers import AdamW, BertForSequenceClassification"
      ]
    },
    {
      "cell_type": "code",
      "execution_count": 35,
      "metadata": {
        "id": "gFsCTp_mporB",
        "colab": {
          "base_uri": "https://localhost:8080/"
        },
        "outputId": "f876464c-33b9-4757-b9b1-37549bb56b75"
      },
      "outputs": [
        {
          "output_type": "stream",
          "name": "stderr",
          "text": [
            "100%|██████████| 433/433 [00:00<00:00, 1173971.32B/s]\n",
            "100%|██████████| 440473133/440473133 [00:25<00:00, 16943482.63B/s]\n"
          ]
        }
      ],
      "source": [
        "model = BertForSequenceClassification.from_pretrained(\"bert-base-uncased\", num_labels=6)"
      ]
    },
    {
      "cell_type": "code",
      "execution_count": 36,
      "metadata": {
        "id": "UFcCFeHdW5wz"
      },
      "outputs": [],
      "source": [
        "model = model.to(device)\n",
        "\n",
        "#RuntimeError: CUDA error: device-side assert triggered\n",
        "#CUDA kernel errors might be asynchronously reported at some other API call, so the stacktrace below might be incorrect.\n",
        "#For debugging consider passing CUDA_LAUNCH_BLOCKING=1.\n",
        "#Compile with `TORCH_USE_CUDA_DSA` to enable device-side assertions"
      ]
    },
    {
      "cell_type": "code",
      "execution_count": 37,
      "metadata": {
        "id": "pks9UB-mosbh"
      },
      "outputs": [],
      "source": [
        "epochs = 10\n",
        "\n",
        "optimizer = AdamW(model.parameters(),\n",
        "                  lr = 5e-5, # args.learning_rate - default is 5e-5, our notebook had 2e-5\n",
        "                  eps = 1e-8 # args.adam_epsilon  - default is 1e-8.\n",
        "                )\n",
        "\n",
        "lmbda = lambda epoch: 0.65 ** epoch\n",
        "scheduler = torch.optim.lr_scheduler.MultiplicativeLR(optimizer, lr_lambda=lmbda)\n",
        "\n",
        "max_grad_norm_clipping = 1"
      ]
    },
    {
      "cell_type": "code",
      "execution_count": 38,
      "metadata": {
        "id": "LCoO4px8uSHB",
        "colab": {
          "base_uri": "https://localhost:8080/"
        },
        "outputId": "fcf72a88-4ab7-45d2-d543-08700f50c74b"
      },
      "outputs": [
        {
          "output_type": "execute_result",
          "data": {
            "text/plain": [
              "184"
            ]
          },
          "metadata": {},
          "execution_count": 38
        }
      ],
      "source": [
        "len(train_dataloader)"
      ]
    },
    {
      "cell_type": "code",
      "execution_count": 39,
      "metadata": {
        "id": "C8V2j3z3QV5X"
      },
      "outputs": [],
      "source": [
        "def train(model, train_dataloader, optimizer, EPOCH_AMOUNT, with_clipping=False,max_grad_norm_clipping=1):\n",
        "    # Будем сохранять loss во время обучения\n",
        "    # и рисовать график в режиме реального времени\n",
        "    train_loss_set = []\n",
        "    train_loss = 0\n",
        "\n",
        "\n",
        "    # Обучение\n",
        "    # Переводим модель в training mode\n",
        "    model.train()\n",
        "\n",
        "    for _ in range(EPOCH_AMOUNT):\n",
        "        for step, batch in enumerate(train_dataloader):\n",
        "            # добавляем батч для вычисления на GPU\n",
        "            batch = tuple(t.to(device) for t in batch)\n",
        "\n",
        "            # Распаковываем данные из dataloader\n",
        "            b_input_ids, b_input_mask, b_labels = batch\n",
        "\n",
        "            # если не сделать .zero_grad(), градиенты будут накапливаться\n",
        "            optimizer.zero_grad()\n",
        "\n",
        "            # Forward pass\n",
        "            loss = model(b_input_ids, token_type_ids=None, attention_mask=b_input_mask, labels=b_labels)\n",
        "            if len(train_loss_set) > 0:\n",
        "              if loss[0].item() < min(train_loss_set):\n",
        "                print(round(loss[0].item(),3))\n",
        "                print(min(train_loss_set))\n",
        "\n",
        "                # чтобы хранилища google хватало, предыдущике файлы будем сразу удалять\n",
        "                f = '/content/drive/MyDrive/Гилфорд Маг Диплом Розовская/New results/BRT2_orig_6_'+str(round(min(train_loss_set),3))+'.ckpt'\n",
        "                #f = '/content/drive/MyDrive/Лорочкина папочка/BRT_orig_'+str(round(min(train_loss_set),3))+'.ckpt'\n",
        "                if os.path.isfile(f):\n",
        "                  os.remove(f)\n",
        "\n",
        "                torch.save(model.state_dict(),\n",
        "                           '/content/drive/MyDrive/Гилфорд Маг Диплом Розовская/New results/BRT2_orig_6_' + str(round(loss[0].item(),3))+'.ckpt')\n",
        "                #torch.save(model.state_dict(),\n",
        "                           #'/content/drive/MyDrive/Лорочкина папочка/BRT_orig_' + str(round(loss[0].item(),3)) + '.ckpt')\n",
        "            train_loss_set.append(loss[0].item())\n",
        "\n",
        "            # Backward pass\n",
        "            loss[0].backward()\n",
        "\n",
        "            if with_clipping:\n",
        "                # Gradient clipping is not in AdamW anymore (so you can use amp without issue)\n",
        "                torch.nn.utils.clip_grad_norm_(model.parameters(), max_grad_norm_clipping)\n",
        "\n",
        "            # Обновляем параметры и делаем шаг используя посчитанные градиенты\n",
        "            optimizer.step()\n",
        "            #scheduler.step()\n",
        "\n",
        "            # Обновляем loss\n",
        "            train_loss += loss[0].item()\n",
        "\n",
        "            # Рисуем график\n",
        "            clear_output(True)\n",
        "            plt.figure(figsize=(12, 6))\n",
        "            plt.plot(train_loss_set)\n",
        "            plt.title(\"Training loss\")\n",
        "            plt.xlabel(\"Batch\")\n",
        "            plt.ylabel(\"Loss\")\n",
        "            plt.grid()\n",
        "            plt.show()\n",
        "\n",
        "        print(\"Loss на обучающей выборке: {0:.5f}\".format(train_loss / len(train_dataloader)))\n",
        "        print(min(train_loss_set))"
      ]
    },
    {
      "cell_type": "code",
      "execution_count": 40,
      "metadata": {
        "id": "1JpuGLb2QYnF"
      },
      "outputs": [],
      "source": [
        "def test(model, dataloader, name_dtlder='Test'):\n",
        "    # Валидация\n",
        "    # Переводим модель в evaluation mode\n",
        "    model.eval()\n",
        "    test_preds, test_labels = [], []\n",
        "\n",
        "    n = 0\n",
        "\n",
        "    model_name = input('как сохранить результаты валидации?')\n",
        "    f = '/content/drive/MyDrive/Гилфорд Маг Диплом Розовская/New results/'+model_name+'val_acc_scrore.txt'\n",
        "\n",
        "    with open(f, 'w', encoding='utf-8') as rec:\n",
        "\n",
        "      for batch in tqdm_notebook(dataloader):\n",
        "          # добавляем батч для вычисления на GPU\n",
        "          batch = tuple(t.to(device) for t in batch)\n",
        "\n",
        "          # Распаковываем данные из dataloader\n",
        "          b_input_ids, b_input_mask, b_labels = batch\n",
        "\n",
        "          # При использовании .no_grad() модель не будет считать и хранить градиенты.\n",
        "          # Это ускорит процесс предсказания меток для тестовых данных.\n",
        "          with torch.no_grad():\n",
        "              logits = model(b_input_ids, token_type_ids=None, attention_mask=b_input_mask)\n",
        "\n",
        "          # Перемещаем logits и метки классов на CPU для дальнейшей работы\n",
        "          logits = logits[0].detach().cpu().numpy()\n",
        "          label_ids = b_labels.to('cpu').numpy()\n",
        "\n",
        "          # Сохраняем предсказанные классы и ground truth\n",
        "          batch_preds = np.argmax(logits, axis=1)\n",
        "\n",
        "          if len(label_ids.shape) == 1:\n",
        "              batch_labels = label_ids\n",
        "          else:\n",
        "              batch_labels = np.concatenate(label_ids)\n",
        "          test_preds.extend(batch_preds)\n",
        "          test_labels.extend(batch_labels)\n",
        "          batch_preds = np.argmax(logits, axis=1)\n",
        "\n",
        "          print(n, ' val accuracy score: ', accuracy_score(test_labels, test_preds))\n",
        "          rec.write(str(n)+' val accuracy score: '+str(accuracy_score(test_labels, test_preds))+'\\n')\n",
        "\n",
        "          n += 1\n",
        "\n",
        "      acc_score = accuracy_score(test_labels, test_preds)\n",
        "      print('Процент правильных предсказаний на {0} выборке составил:  f1 = {1:.2f}%'.format(name_dtlder,\n",
        "                                                                                             f1_score(test_labels,\n",
        "                                                                                                      test_preds,\n",
        "                                                                                                      average='macro') * 100))\n",
        "      rec.write('Процент правильных предсказаний на {0} выборке составил:  f1 = {1:.2f}%'.format(name_dtlder,\n",
        "                                                                                             f1_score(test_labels,\n",
        "                                                                                                      test_preds,\n",
        "                                                                                                      average='macro') * 100))\n",
        "      rec.close()\n",
        "\n",
        "    return test_preds, test_labels"
      ]
    },
    {
      "cell_type": "code",
      "execution_count": null,
      "metadata": {
        "colab": {
          "base_uri": "https://localhost:8080/",
          "height": 599
        },
        "id": "Ze0gpY-UQpDB",
        "outputId": "bf754cda-41b4-4bd7-f4f9-c115a1a31906",
        "scrolled": false
      },
      "outputs": [
        {
          "output_type": "display_data",
          "data": {
            "text/plain": [
              "<Figure size 1200x600 with 1 Axes>"
            ],
            "image/png": "[encoded data removed]"
          },
          "metadata": {}
        },
        {
          "output_type": "stream",
          "name": "stdout",
          "text": [
            "Loss на обучающей выборке: 2.86615\n",
            "0.0012992476113140583\n"
          ]
        }
      ],
      "source": [
        "train(model, train_dataloader, optimizer, epochs, with_clipping=1)\n",
        "\n",
        "#RuntimeError: CUDA error: device-side assert triggered\n",
        "#CUDA kernel errors might be asynchronously reported at some other API call, so the stacktrace below might be incorrect.\n",
        "#For debugging consider passing CUDA_LAUNCH_BLOCKING=1.\n",
        "#Compile with `TORCH_USE_CUDA_DSA` to enable device-side assertions"
      ]
    },
    {
      "cell_type": "markdown",
      "source": [
        "# Валидация:"
      ],
      "metadata": {
        "id": "CRHtmFKuXez1"
      }
    },
    {
      "cell_type": "code",
      "execution_count": 41,
      "metadata": {
        "id": "wsnPV5ooeD02",
        "colab": {
          "base_uri": "https://localhost:8080/"
        },
        "outputId": "39a6dbea-4552-4416-e853-274ec95e8618"
      },
      "outputs": [
        {
          "output_type": "execute_result",
          "data": {
            "text/plain": [
              "<All keys matched successfully>"
            ]
          },
          "metadata": {},
          "execution_count": 41
        }
      ],
      "source": [
        "model.load_state_dict(torch.load('/content/drive/MyDrive/Гилфорд Маг Диплом Розовская/models saved/BRT2_orig_6_0.01.ckpt'))\n",
        "\n",
        "# если вдруг не на gpu\n",
        "#, map_location=torch.device('cpu')))"
      ]
    },
    {
      "cell_type": "code",
      "execution_count": 42,
      "metadata": {
        "id": "KpvQw0rrv2fU",
        "colab": {
          "base_uri": "https://localhost:8080/",
          "height": 882,
          "referenced_widgets": [
            "d072dfce913a49ba8b80ca9761f40a43",
            "48eb3d8d5f8243aeaf1c98baed147e35",
            "03d0cdb3205e476f80ba3c1f383bafc4",
            "0e2b0728561a4ab39ee5692c722845fb",
            "327ffe1d0e3c42deaa403ceabc79b4f1",
            "473c65a79f9347bfa33c08ed542adfe6",
            "f7a23beb5afa42a7bbf155f25d4e09ab",
            "bfa754aa7ca14efc8e65177e5fd5ae59",
            "166bcf3cfce74f9d899ac10c6c4f85cb",
            "90ba9e0fda9e477fa7507866c710ee28",
            "15573565e91d4bea8b161d2dbca657de"
          ]
        },
        "outputId": "2c075051-9fa7-455e-deca-2d055b49940f"
      },
      "outputs": [
        {
          "name": "stdout",
          "output_type": "stream",
          "text": [
            "как сохранить результаты валидации?BRT2_orig_6_0.01\n"
          ]
        },
        {
          "output_type": "display_data",
          "data": {
            "text/plain": [
              "  0%|          | 0/46 [00:00<?, ?it/s]"
            ],
            "application/vnd.jupyter.widget-view+json": {
              "version_major": 2,
              "version_minor": 0,
              "model_id": "d072dfce913a49ba8b80ca9761f40a43"
            }
          },
          "metadata": {}
        },
        {
          "output_type": "stream",
          "name": "stdout",
          "text": [
            "0  val accuracy score:  0.9375\n",
            "1  val accuracy score:  0.90625\n",
            "2  val accuracy score:  0.875\n",
            "3  val accuracy score:  0.875\n",
            "4  val accuracy score:  0.88125\n",
            "5  val accuracy score:  0.8541666666666666\n",
            "6  val accuracy score:  0.8526785714285714\n",
            "7  val accuracy score:  0.84765625\n",
            "8  val accuracy score:  0.8541666666666666\n",
            "9  val accuracy score:  0.84375\n",
            "10  val accuracy score:  0.84375\n",
            "11  val accuracy score:  0.8411458333333334\n",
            "12  val accuracy score:  0.8365384615384616\n",
            "13  val accuracy score:  0.8348214285714286\n",
            "14  val accuracy score:  0.8229166666666666\n",
            "15  val accuracy score:  0.8125\n",
            "16  val accuracy score:  0.8125\n",
            "17  val accuracy score:  0.8177083333333334\n",
            "18  val accuracy score:  0.8207236842105263\n",
            "19  val accuracy score:  0.81875\n",
            "20  val accuracy score:  0.8184523809523809\n",
            "21  val accuracy score:  0.8181818181818182\n",
            "22  val accuracy score:  0.8179347826086957\n",
            "23  val accuracy score:  0.8190104166666666\n",
            "24  val accuracy score:  0.81875\n",
            "25  val accuracy score:  0.8209134615384616\n",
            "26  val accuracy score:  0.8240740740740741\n",
            "27  val accuracy score:  0.8236607142857143\n",
            "28  val accuracy score:  0.8254310344827587\n",
            "29  val accuracy score:  0.8239583333333333\n",
            "30  val accuracy score:  0.8235887096774194\n",
            "31  val accuracy score:  0.822265625\n",
            "32  val accuracy score:  0.8191287878787878\n",
            "33  val accuracy score:  0.8207720588235294\n",
            "34  val accuracy score:  0.8214285714285714\n",
            "35  val accuracy score:  0.8185763888888888\n",
            "36  val accuracy score:  0.816722972972973\n",
            "37  val accuracy score:  0.8166118421052632\n",
            "38  val accuracy score:  0.8125\n",
            "39  val accuracy score:  0.81171875\n",
            "40  val accuracy score:  0.8102134146341463\n",
            "41  val accuracy score:  0.8102678571428571\n",
            "42  val accuracy score:  0.809593023255814\n",
            "43  val accuracy score:  0.8082386363636364\n",
            "44  val accuracy score:  0.8076388888888889\n",
            "45  val accuracy score:  0.8091032608695652\n",
            "Процент правильных предсказаний на VAl выборке составил:  f1 = 62.12%\n"
          ]
        }
      ],
      "source": [
        "val_preds, val_labels = test(model, validation_dataloader, name_dtlder='VAl')"
      ]
    },
    {
      "cell_type": "code",
      "execution_count": 43,
      "metadata": {
        "id": "MxfiAb--dfz6",
        "colab": {
          "base_uri": "https://localhost:8080/"
        },
        "outputId": "38a8d24e-08a5-44fb-f0a4-91d73a9c3017"
      },
      "outputs": [
        {
          "output_type": "execute_result",
          "data": {
            "text/plain": [
              "{'0', '1', '2', '3', '4', '5'}"
            ]
          },
          "metadata": {},
          "execution_count": 43
        }
      ],
      "source": [
        "target_names = [str(c) for c in dataset.origNew.unique()]\n",
        "target_names = set(target_names)\n",
        "target_names"
      ]
    },
    {
      "cell_type": "code",
      "execution_count": 44,
      "metadata": {
        "id": "gGdkkbl8bsg4",
        "colab": {
          "base_uri": "https://localhost:8080/"
        },
        "outputId": "26415ed0-0651-4b0d-dda6-90d874c572b0"
      },
      "outputs": [
        {
          "output_type": "stream",
          "name": "stdout",
          "text": [
            "              precision    recall  f1-score   support\n",
            "\n",
            "           0       0.60      0.60      0.60         5\n",
            "           1       0.77      0.63      0.69        57\n",
            "           2       0.78      0.85      0.81       296\n",
            "           3       0.77      0.77      0.77       438\n",
            "           4       0.85      0.85      0.85       666\n",
            "           5       0.00      0.00      0.00        10\n",
            "\n",
            "    accuracy                           0.81      1472\n",
            "   macro avg       0.63      0.62      0.62      1472\n",
            "weighted avg       0.81      0.81      0.81      1472\n",
            "\n"
          ]
        }
      ],
      "source": [
        "print(classification_report(val_labels, val_preds))"
      ]
    }
  ],
  "metadata": {
    "colab": {
      "provenance": [],
      "toc_visible": true,
      "gpuType": "T4"
    },
    "kernelspec": {
      "display_name": "Python 3",
      "name": "python3"
    },
    "language_info": {
      "codemirror_mode": {
        "name": "ipython",
        "version": 3
      },
      "file_extension": ".py",
      "mimetype": "text/x-python",
      "name": "python",
      "nbconvert_exporter": "python",
      "pygments_lexer": "ipython3",
      "version": "3.11.5"
    },
    "accelerator": "GPU",
    "widgets": {
      "application/vnd.jupyter.widget-state+json": {
        "d072dfce913a49ba8b80ca9761f40a43": {
          "model_module": "@jupyter-widgets/controls",
          "model_name": "HBoxModel",
          "model_module_version": "1.5.0",
          "state": {
            "_dom_classes": [],
            "_model_module": "@jupyter-widgets/controls",
            "_model_module_version": "1.5.0",
            "_model_name": "HBoxModel",
            "_view_count": null,
            "_view_module": "@jupyter-widgets/controls",
            "_view_module_version": "1.5.0",
            "_view_name": "HBoxView",
            "box_style": "",
            "children": [
              "IPY_MODEL_48eb3d8d5f8243aeaf1c98baed147e35",
              "IPY_MODEL_03d0cdb3205e476f80ba3c1f383bafc4",
              "IPY_MODEL_0e2b0728561a4ab39ee5692c722845fb"
            ],
            "layout": "IPY_MODEL_327ffe1d0e3c42deaa403ceabc79b4f1"
          }
        },
        "48eb3d8d5f8243aeaf1c98baed147e35": {
          "model_module": "@jupyter-widgets/controls",
          "model_name": "HTMLModel",
          "model_module_version": "1.5.0",
          "state": {
            "_dom_classes": [],
            "_model_module": "@jupyter-widgets/controls",
            "_model_module_version": "1.5.0",
            "_model_name": "HTMLModel",
            "_view_count": null,
            "_view_module": "@jupyter-widgets/controls",
            "_view_module_version": "1.5.0",
            "_view_name": "HTMLView",
            "description": "",
            "description_tooltip": null,
            "layout": "IPY_MODEL_473c65a79f9347bfa33c08ed542adfe6",
            "placeholder": "​",
            "style": "IPY_MODEL_f7a23beb5afa42a7bbf155f25d4e09ab",
            "value": "100%"
          }
        },
        "03d0cdb3205e476f80ba3c1f383bafc4": {
          "model_module": "@jupyter-widgets/controls",
          "model_name": "FloatProgressModel",
          "model_module_version": "1.5.0",
          "state": {
            "_dom_classes": [],
            "_model_module": "@jupyter-widgets/controls",
            "_model_module_version": "1.5.0",
            "_model_name": "FloatProgressModel",
            "_view_count": null,
            "_view_module": "@jupyter-widgets/controls",
            "_view_module_version": "1.5.0",
            "_view_name": "ProgressView",
            "bar_style": "success",
            "description": "",
            "description_tooltip": null,
            "layout": "IPY_MODEL_bfa754aa7ca14efc8e65177e5fd5ae59",
            "max": 46,
            "min": 0,
            "orientation": "horizontal",
            "style": "IPY_MODEL_166bcf3cfce74f9d899ac10c6c4f85cb",
            "value": 46
          }
        },
        "0e2b0728561a4ab39ee5692c722845fb": {
          "model_module": "@jupyter-widgets/controls",
          "model_name": "HTMLModel",
          "model_module_version": "1.5.0",
          "state": {
            "_dom_classes": [],
            "_model_module": "@jupyter-widgets/controls",
            "_model_module_version": "1.5.0",
            "_model_name": "HTMLModel",
            "_view_count": null,
            "_view_module": "@jupyter-widgets/controls",
            "_view_module_version": "1.5.0",
            "_view_name": "HTMLView",
            "description": "",
            "description_tooltip": null,
            "layout": "IPY_MODEL_90ba9e0fda9e477fa7507866c710ee28",
            "placeholder": "​",
            "style": "IPY_MODEL_15573565e91d4bea8b161d2dbca657de",
            "value": " 46/46 [00:12&lt;00:00,  4.50it/s]"
          }
        },
        "327ffe1d0e3c42deaa403ceabc79b4f1": {
          "model_module": "@jupyter-widgets/base",
          "model_name": "LayoutModel",
          "model_module_version": "1.2.0",
          "state": {
            "_model_module": "@jupyter-widgets/base",
            "_model_module_version": "1.2.0",
            "_model_name": "LayoutModel",
            "_view_count": null,
            "_view_module": "@jupyter-widgets/base",
            "_view_module_version": "1.2.0",
            "_view_name": "LayoutView",
            "align_content": null,
            "align_items": null,
            "align_self": null,
            "border": null,
            "bottom": null,
            "display": null,
            "flex": null,
            "flex_flow": null,
            "grid_area": null,
            "grid_auto_columns": null,
            "grid_auto_flow": null,
            "grid_auto_rows": null,
            "grid_column": null,
            "grid_gap": null,
            "grid_row": null,
            "grid_template_areas": null,
            "grid_template_columns": null,
            "grid_template_rows": null,
            "height": null,
            "justify_content": null,
            "justify_items": null,
            "left": null,
            "margin": null,
            "max_height": null,
            "max_width": null,
            "min_height": null,
            "min_width": null,
            "object_fit": null,
            "object_position": null,
            "order": null,
            "overflow": null,
            "overflow_x": null,
            "overflow_y": null,
            "padding": null,
            "right": null,
            "top": null,
            "visibility": null,
            "width": null
          }
        },
        "473c65a79f9347bfa33c08ed542adfe6": {
          "model_module": "@jupyter-widgets/base",
          "model_name": "LayoutModel",
          "model_module_version": "1.2.0",
          "state": {
            "_model_module": "@jupyter-widgets/base",
            "_model_module_version": "1.2.0",
            "_model_name": "LayoutModel",
            "_view_count": null,
            "_view_module": "@jupyter-widgets/base",
            "_view_module_version": "1.2.0",
            "_view_name": "LayoutView",
            "align_content": null,
            "align_items": null,
            "align_self": null,
            "border": null,
            "bottom": null,
            "display": null,
            "flex": null,
            "flex_flow": null,
            "grid_area": null,
            "grid_auto_columns": null,
            "grid_auto_flow": null,
            "grid_auto_rows": null,
            "grid_column": null,
            "grid_gap": null,
            "grid_row": null,
            "grid_template_areas": null,
            "grid_template_columns": null,
            "grid_template_rows": null,
            "height": null,
            "justify_content": null,
            "justify_items": null,
            "left": null,
            "margin": null,
            "max_height": null,
            "max_width": null,
            "min_height": null,
            "min_width": null,
            "object_fit": null,
            "object_position": null,
            "order": null,
            "overflow": null,
            "overflow_x": null,
            "overflow_y": null,
            "padding": null,
            "right": null,
            "top": null,
            "visibility": null,
            "width": null
          }
        },
        "f7a23beb5afa42a7bbf155f25d4e09ab": {
          "model_module": "@jupyter-widgets/controls",
          "model_name": "DescriptionStyleModel",
          "model_module_version": "1.5.0",
          "state": {
            "_model_module": "@jupyter-widgets/controls",
            "_model_module_version": "1.5.0",
            "_model_name": "DescriptionStyleModel",
            "_view_count": null,
            "_view_module": "@jupyter-widgets/base",
            "_view_module_version": "1.2.0",
            "_view_name": "StyleView",
            "description_width": ""
          }
        },
        "bfa754aa7ca14efc8e65177e5fd5ae59": {
          "model_module": "@jupyter-widgets/base",
          "model_name": "LayoutModel",
          "model_module_version": "1.2.0",
          "state": {
            "_model_module": "@jupyter-widgets/base",
            "_model_module_version": "1.2.0",
            "_model_name": "LayoutModel",
            "_view_count": null,
            "_view_module": "@jupyter-widgets/base",
            "_view_module_version": "1.2.0",
            "_view_name": "LayoutView",
            "align_content": null,
            "align_items": null,
            "align_self": null,
            "border": null,
            "bottom": null,
            "display": null,
            "flex": null,
            "flex_flow": null,
            "grid_area": null,
            "grid_auto_columns": null,
            "grid_auto_flow": null,
            "grid_auto_rows": null,
            "grid_column": null,
            "grid_gap": null,
            "grid_row": null,
            "grid_template_areas": null,
            "grid_template_columns": null,
            "grid_template_rows": null,
            "height": null,
            "justify_content": null,
            "justify_items": null,
            "left": null,
            "margin": null,
            "max_height": null,
            "max_width": null,
            "min_height": null,
            "min_width": null,
            "object_fit": null,
            "object_position": null,
            "order": null,
            "overflow": null,
            "overflow_x": null,
            "overflow_y": null,
            "padding": null,
            "right": null,
            "top": null,
            "visibility": null,
            "width": null
          }
        },
        "166bcf3cfce74f9d899ac10c6c4f85cb": {
          "model_module": "@jupyter-widgets/controls",
          "model_name": "ProgressStyleModel",
          "model_module_version": "1.5.0",
          "state": {
            "_model_module": "@jupyter-widgets/controls",
            "_model_module_version": "1.5.0",
            "_model_name": "ProgressStyleModel",
            "_view_count": null,
            "_view_module": "@jupyter-widgets/base",
            "_view_module_version": "1.2.0",
            "_view_name": "StyleView",
            "bar_color": null,
            "description_width": ""
          }
        },
        "90ba9e0fda9e477fa7507866c710ee28": {
          "model_module": "@jupyter-widgets/base",
          "model_name": "LayoutModel",
          "model_module_version": "1.2.0",
          "state": {
            "_model_module": "@jupyter-widgets/base",
            "_model_module_version": "1.2.0",
            "_model_name": "LayoutModel",
            "_view_count": null,
            "_view_module": "@jupyter-widgets/base",
            "_view_module_version": "1.2.0",
            "_view_name": "LayoutView",
            "align_content": null,
            "align_items": null,
            "align_self": null,
            "border": null,
            "bottom": null,
            "display": null,
            "flex": null,
            "flex_flow": null,
            "grid_area": null,
            "grid_auto_columns": null,
            "grid_auto_flow": null,
            "grid_auto_rows": null,
            "grid_column": null,
            "grid_gap": null,
            "grid_row": null,
            "grid_template_areas": null,
            "grid_template_columns": null,
            "grid_template_rows": null,
            "height": null,
            "justify_content": null,
            "justify_items": null,
            "left": null,
            "margin": null,
            "max_height": null,
            "max_width": null,
            "min_height": null,
            "min_width": null,
            "object_fit": null,
            "object_position": null,
            "order": null,
            "overflow": null,
            "overflow_x": null,
            "overflow_y": null,
            "padding": null,
            "right": null,
            "top": null,
            "visibility": null,
            "width": null
          }
        },
        "15573565e91d4bea8b161d2dbca657de": {
          "model_module": "@jupyter-widgets/controls",
          "model_name": "DescriptionStyleModel",
          "model_module_version": "1.5.0",
          "state": {
            "_model_module": "@jupyter-widgets/controls",
            "_model_module_version": "1.5.0",
            "_model_name": "DescriptionStyleModel",
            "_view_count": null,
            "_view_module": "@jupyter-widgets/base",
            "_view_module_version": "1.2.0",
            "_view_name": "StyleView",
            "description_width": ""
          }
        }
      }
    }
  },
  "nbformat": 4,
  "nbformat_minor": 0
}